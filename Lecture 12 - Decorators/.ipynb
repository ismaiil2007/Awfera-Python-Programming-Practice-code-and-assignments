{
 "cells": [
  {
   "cell_type": "markdown",
   "id": "d7f5f132",
   "metadata": {},
   "source": [
    "DECORATORS"
   ]
  },
  {
   "cell_type": "code",
   "execution_count": null,
   "id": "99b68bf8",
   "metadata": {},
   "outputs": [
    {
     "name": "stdout",
     "output_type": "stream",
     "text": [
      "Decorators\n",
      "=========\n",
      "Decorators are a way to modify or enhance functions or methods without changing their actual code.\n",
      "They are often used to add functionality to existing code in a clean and readable way.\n",
      "A decorator is a function that takes another function as an argument and extends its behavior without explicitly modifying it.\n",
      "Hello!\n"
     ]
    }
   ],
   "source": [
    "print(\"Decorators\")\n",
    "print(\"=========\")\n",
    "\n",
    "print(\"Decorators are a way to modify or enhance functions or methods without changing their actual code.\")\n",
    "print(\"They are often used to add functionality to existing code in a clean and readable way.\")\n",
    "print(\"A decorator is a function that takes another function as an argument and extends its behavior without explicitly modifying it.\")\n",
    "\n",
    "\n",
    "def greet(): return 'Hello!'\n",
    "\n",
    "def call_function(func):\n",
    "\n",
    "    return func()\n",
    "\n",
    "print(call_function(greet))\n",
    "\n"
   ]
  },
  {
   "cell_type": "code",
   "execution_count": null,
   "id": "94d99d38",
   "metadata": {},
   "outputs": [
    {
     "name": "stdout",
     "output_type": "stream",
     "text": [
      "New example\n",
      "=========\n",
      "In this example, we will create a simple decorator that prints the name of the function being called.\n",
      "Calling function: say_hello\n",
      "Hello, World!\n"
     ]
    }
   ],
   "source": [
    "print(\"New example\")\n",
    "\n",
    "# In this example, we will create a simple decorator that prints the name of the function being called.\n",
    "\n",
    "\n",
    "def my_decorator(func):\n",
    "    def wrapper():\n",
    "        print(f\"Calling function: {func.__name__}\")\n",
    "        return func()\n",
    "    return wrapper\n",
    "\n",
    "@my_decorator\n",
    "def say_hello():\n",
    "    return \"Hello, World!\"\n",
    "\n",
    "print(say_hello())\n"
   ]
  },
  {
   "cell_type": "code",
   "execution_count": 23,
   "id": "291a3783",
   "metadata": {},
   "outputs": [
    {
     "name": "stdout",
     "output_type": "stream",
     "text": [
      "Hello! ismail hussain\n",
      "Hello! ismail hussain\n",
      "Hello! ismail hussain\n"
     ]
    }
   ],
   "source": [
    "import time\n",
    "\n",
    "def repeat(times):\n",
    "\n",
    "    def decorator(func):\n",
    "\n",
    "        # def wrapper(*args, **kwargs):\n",
    "        def wrapper(a,b):\n",
    "\n",
    "            for _ in range(times):\n",
    "\n",
    "                func(a,b)\n",
    "                # print(*args,**kwargs)\n",
    "\n",
    "        return wrapper\n",
    "\n",
    "    return decorator\n",
    "    # decorator() #Gives error in this way\n",
    "\n",
    "@repeat(3)\n",
    "def say_hello(a,b):\n",
    "    print(\"Hello!\" , a,b)\n",
    "\n",
    "say_hello(\"ismail\",\"hussain\")\n"
   ]
  },
  {
   "cell_type": "code",
   "execution_count": 4,
   "id": "5191f808",
   "metadata": {},
   "outputs": [
    {
     "name": "stdout",
     "output_type": "stream",
     "text": [
      "SIMPLE EXAMPLE: \n",
      "Hello \n",
      "Alice\n"
     ]
    }
   ],
   "source": [
    "print(\"SIMPLE EXAMPLE: \\n\")\n",
    "\n",
    "def hello(func):                                                                                            \n",
    "    def inner():                                                                                            \n",
    "        print(\"Hello \")                                                                                     \n",
    "        func()                                                                                              \n",
    "    return inner                                                                                            \n",
    "                                                                                                            \n",
    "# def name():                                                                                                 \n",
    "#     print(\"Alice\")                                                                                          \n",
    "                                                                                                            \n",
    "                                                                                                            \n",
    "# obj = hello(name)                                                                                           \n",
    "# obj()    \n",
    "\n",
    "@hello                                                                                                      \n",
    "def name():                                                                                                 \n",
    "    print(\"Alice\")                                                                                          \n",
    "                                                                                                            \n",
    "if __name__ == \"__main__\":                                                                                  \n",
    "    name() "
   ]
  },
  {
   "cell_type": "code",
   "execution_count": 17,
   "id": "09461175",
   "metadata": {},
   "outputs": [
    {
     "name": "stdout",
     "output_type": "stream",
     "text": [
      "Giving arguements in the function to be decorated: \n",
      "5 + 3 is 8\n"
     ]
    }
   ],
   "source": [
    "print(\"Giving arguements in the function to be decorated: \")\n",
    "\n",
    "def pretty_sumab(func):                                                                                     \n",
    "    def inner(a,b):                                                                                         \n",
    "        print(str(a) + \" + \" + str(b) + \" is \", end=\"\")                                                     \n",
    "        # return func(a,b)                                                                                    \n",
    "        func(a,b) # Works the same way without using return statement                                                                                    \n",
    "                                                                                                            \n",
    "    return inner                                                                                            \n",
    "                                                                                                            \n",
    "@pretty_sumab                                                                                               \n",
    "def sumab(a,b):                                                                                             \n",
    "    summed = a + b                                                                                          \n",
    "    print(summed)                                                                                      \n",
    "                                                                                                            \n",
    "if __name__ == \"__main__\":                                                                                  \n",
    "    sumab(5,3)             "
   ]
  }
 ],
 "metadata": {
  "kernelspec": {
   "display_name": "awfera",
   "language": "python",
   "name": "python3"
  },
  "language_info": {
   "codemirror_mode": {
    "name": "ipython",
    "version": 3
   },
   "file_extension": ".py",
   "mimetype": "text/x-python",
   "name": "python",
   "nbconvert_exporter": "python",
   "pygments_lexer": "ipython3",
   "version": "3.10.16"
  }
 },
 "nbformat": 4,
 "nbformat_minor": 5
}
