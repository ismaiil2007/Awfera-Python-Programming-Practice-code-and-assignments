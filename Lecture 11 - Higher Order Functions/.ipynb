{
 "cells": [
  {
   "cell_type": "markdown",
   "id": "5c44a92b",
   "metadata": {},
   "source": [
    "HIGHER ORDER FUNCTIONS"
   ]
  },
  {
   "cell_type": "code",
   "execution_count": 10,
   "id": "e33e5d03",
   "metadata": {},
   "outputs": [
    {
     "name": "stdout",
     "output_type": "stream",
     "text": [
      "map () : \n",
      "[2, 4, 6, 8, 10]\n"
     ]
    }
   ],
   "source": [
    "print(\"map () : \")\n",
    "\n",
    "def double(x):\n",
    "\n",
    "    return x * 2\n",
    "\n",
    "numbers = [1, 2, 3, 4, 5]\n",
    "\n",
    "doubled_numbers = list(map(double, numbers))\n",
    "\n",
    "print(doubled_numbers)\n"
   ]
  },
  {
   "cell_type": "code",
   "execution_count": 11,
   "id": "00121db7",
   "metadata": {},
   "outputs": [
    {
     "name": "stdout",
     "output_type": "stream",
     "text": [
      "lambda : \n",
      "[2, 4, 6, 8, 10]\n"
     ]
    }
   ],
   "source": [
    "print(\"lambda : \")\n",
    "\"What is Lamdba ?\"\n",
    "# Lambda is a small anonymous function that can take any number of arguments, but can only have one expression.\n",
    "\"How to use lambda ?\"\n",
    "\n",
    "numbers = [1, 2, 3, 4, 5]\n",
    "doubled_numbers = list(map(lambda x: x * 2, numbers))\n",
    "print(doubled_numbers)\n"
   ]
  },
  {
   "cell_type": "code",
   "execution_count": 12,
   "id": "2cd1fa54",
   "metadata": {},
   "outputs": [
    {
     "name": "stdout",
     "output_type": "stream",
     "text": [
      "filter () : \n",
      "How to access filter object elements ?\n"
     ]
    },
    {
     "ename": "TypeError",
     "evalue": "'filter' object is not subscriptable",
     "output_type": "error",
     "traceback": [
      "\u001b[1;31m---------------------------------------------------------------------------\u001b[0m",
      "\u001b[1;31mTypeError\u001b[0m                                 Traceback (most recent call last)",
      "Cell \u001b[1;32mIn[12], line 9\u001b[0m\n\u001b[0;32m      7\u001b[0m even_numbers \u001b[38;5;241m=\u001b[39m \u001b[38;5;28mfilter\u001b[39m(is_even, numbers) \u001b[38;5;66;03m#Filter returns an iterator object, so we need to convert it to a list to see the results\u001b[39;00m\n\u001b[0;32m      8\u001b[0m \u001b[38;5;28mprint\u001b[39m(\u001b[38;5;124m\"\u001b[39m\u001b[38;5;124mHow to access filter object elements ?\u001b[39m\u001b[38;5;124m\"\u001b[39m)\n\u001b[1;32m----> 9\u001b[0m \u001b[38;5;28mprint\u001b[39m(\u001b[43meven_numbers\u001b[49m\u001b[43m[\u001b[49m\u001b[38;5;241;43m0\u001b[39;49m\u001b[43m]\u001b[49m) \u001b[38;5;66;03m#This will not work because even_numbers is an iterator and we cannot access its elements using indexing\u001b[39;00m\n\u001b[0;32m     10\u001b[0m \u001b[38;5;66;03m#To access the elements of an iterator, we can use a loop or convert it to a list\u001b[39;00m\n\u001b[0;32m     12\u001b[0m \u001b[38;5;28mprint\u001b[39m(\u001b[38;5;28mlist\u001b[39m(even_numbers)) \n",
      "\u001b[1;31mTypeError\u001b[0m: 'filter' object is not subscriptable"
     ]
    }
   ],
   "source": [
    "\n",
    "print(\"filter () : \")\n",
    "def is_even(x):\n",
    "\n",
    "    return x % 2 == 0\n",
    "\n",
    "numbers = [1, 2, 3, 4, 5]\n",
    "even_numbers = filter(is_even, numbers) #Filter returns an iterator object, so we need to convert it to a list to see the results\n",
    "print(\"How to access filter object elements ?\")\n",
    "print(even_numbers[0]) #This will not work because even_numbers is an iterator and we cannot access its elements using indexing\n",
    "#To access the elements of an iterator, we can use a loop or convert it to a list\n",
    "\n",
    "print(list(even_numbers)) \n",
    "print(list(even_numbers)) #This will not work because the iterator has been exhausted\n"
   ]
  },
  {
   "cell_type": "code",
   "execution_count": null,
   "id": "d8e130f3",
   "metadata": {},
   "outputs": [
    {
     "name": "stdout",
     "output_type": "stream",
     "text": [
      "reduce () : \n",
      "120\n"
     ]
    }
   ],
   "source": [
    "\n",
    "print(\"reduce () : \")\n",
    "from functools import reduce\n",
    "# Reduce is a function that takes a function and a sequence and applies the function cumulatively to the items of the sequence, reducing it to a single value.\n",
    "\n",
    "def multiply(x, y):\n",
    "    return x * y\n",
    "numbers = [1, 2, 3, 4, 5]\n",
    "# sum_of_numbers = reduce(lambda x, y: x + y, numbers)\n",
    "# print(sum_of_numbers)\n",
    "multiplilication_of_numbers = reduce(multiply, numbers) #This will return the product of all the numbers in the list\n",
    "print(multiplilication_of_numbers)\n"
   ]
  },
  {
   "cell_type": "code",
   "execution_count": null,
   "id": "b611c8f8",
   "metadata": {},
   "outputs": [
    {
     "name": "stdout",
     "output_type": "stream",
     "text": [
      "zip () : \n",
      "{(3, 'c', 6), (2, 'b', 5), (1, 'a', 4)}\n",
      "[]\n",
      "()\n"
     ]
    }
   ],
   "source": [
    "print(\"zip () : \")\n",
    "\n",
    "a = [1, 2, 3]\n",
    "b = ['a', 'b', 'c']\n",
    "c = [4, 5, 6]\n",
    "zipped = zip(a, b, c) #This will return a zip object which is an iterator of tuples\n",
    "print(set(zipped))  \n",
    "print(list(zipped)) #This will not work because the iterator has been exhausted\n",
    "print(tuple(zipped)) #This will not work because the iterator has been exhausted\n"
   ]
  },
  {
   "cell_type": "code",
   "execution_count": 25,
   "id": "085cc485",
   "metadata": {},
   "outputs": [
    {
     "name": "stdout",
     "output_type": "stream",
     "text": [
      "enumerate () : \n",
      "((1, 'a'), (2, 'b'), (3, 'c'), (4, 'd'))\n"
     ]
    }
   ],
   "source": [
    "print(\"enumerate () : \")\n",
    "# Enumerate is a built-in function that adds a counter to an iterable and returns it in the form of an enumerate object.\n",
    "# The enumerate function returns an iterator of tuples, where each tuple contains the index and value of the item in the iterable.\n",
    "\n",
    "\n",
    "numbers = ['a', 'b', 'c', 'd']\n",
    "enumerated = enumerate(numbers, start=1) # The default start value is 0. #This will return an enumerate object which is an iterator(object) of tuples\n",
    "print(tuple(enumerated)) "
   ]
  },
  {
   "cell_type": "code",
   "execution_count": null,
   "id": "9433a961",
   "metadata": {},
   "outputs": [],
   "source": [
    "\n",
    "print(\"list comprehension : \")\n",
    "numbers = [1, 2, 3, 4, 5]\n",
    "\n",
    "doubled_numbers = [x * 2 for x in numbers]\n",
    "print(doubled_numbers)\n",
    "\n"
   ]
  }
 ],
 "metadata": {
  "kernelspec": {
   "display_name": "awfera",
   "language": "python",
   "name": "python3"
  },
  "language_info": {
   "codemirror_mode": {
    "name": "ipython",
    "version": 3
   },
   "file_extension": ".py",
   "mimetype": "text/x-python",
   "name": "python",
   "nbconvert_exporter": "python",
   "pygments_lexer": "ipython3",
   "version": "3.10.16"
  }
 },
 "nbformat": 4,
 "nbformat_minor": 5
}
