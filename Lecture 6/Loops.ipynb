{
 "cells": [
  {
   "cell_type": "markdown",
   "metadata": {},
   "source": [
    "LOOPS"
   ]
  },
  {
   "cell_type": "code",
   "execution_count": 14,
   "metadata": {},
   "outputs": [
    {
     "name": "stdout",
     "output_type": "stream",
     "text": [
      "range(10)\n",
      "0\n",
      "1\n",
      "2\n",
      "3\n",
      "4\n",
      "5\n",
      "6\n",
      "7\n",
      "8\n",
      "9\n",
      "range(5,10)\n",
      "5\n",
      "6\n",
      "7\n",
      "8\n",
      "9\n",
      "range(0,10,2)\n",
      "0\n",
      "2\n",
      "4\n",
      "6\n",
      "8\n",
      "range(10,0,-1)\n",
      "10\n",
      "9\n",
      "8\n",
      "7\n",
      "6\n",
      "5\n",
      "4\n",
      "3\n",
      "2\n",
      "1\n",
      "range(10,0,-2)\n",
      "10\n",
      "8\n",
      "6\n",
      "4\n",
      "2\n",
      "reversed range(10)\n",
      "9\n",
      "8\n",
      "7\n",
      "6\n",
      "5\n",
      "4\n",
      "3\n",
      "2\n",
      "1\n",
      "0\n",
      "reversed range(5,10)\n",
      "9\n",
      "8\n",
      "7\n",
      "6\n",
      "5\n",
      "reversed range(10,0,-2)\n",
      "8\n",
      "6\n",
      "4\n",
      "2\n",
      "0\n",
      "reversed (range(10,0,-2))\n",
      "2\n",
      "4\n",
      "6\n",
      "8\n",
      "10\n"
     ]
    }
   ],
   "source": [
    "print('range(10)')\n",
    "for i in range(10):\n",
    "\n",
    "        print(i)\n",
    "\n",
    "print('range(5,10)')\n",
    "for i in range(5, 10):\n",
    "        print(i)\n",
    "\n",
    "print('range(0,10,2)')\n",
    "for i in range(0, 10, 2):\n",
    "        print(i)\n",
    "\n",
    "print('range(10,0,-1)')\n",
    "for i in range(10, 0, -1):\n",
    "        print(i)\n",
    "\n",
    "print('range(10,0,-2)')\n",
    "for i in range(10, 0, -2):\n",
    "        print(i)\n",
    "\n",
    "# # What is reversed range\n",
    "\n",
    "print('reversed range(10)')\n",
    "for i in reversed(range(10)):\n",
    "        print(i)\n",
    "\n",
    "print('reversed range(5,10)')\n",
    "for i in reversed(range(5, 10)):\n",
    "        print(i)\n",
    "\n",
    "# # # What is reversed range with step\n",
    "\n",
    "print('reversed range(10,0,-2)')\n",
    "for i in reversed(range(0, 10, 2)):\n",
    "        print(i)\n",
    "\n",
    "\n",
    "\n",
    "print('reversed (range(10,0,-2))')\n",
    "for i in reversed(range(10, 0, -2)):  \n",
    "        print(i)\n",
    "\n",
    "\n"
   ]
  },
  {
   "cell_type": "code",
   "execution_count": null,
   "metadata": {},
   "outputs": [
    {
     "name": "stdout",
     "output_type": "stream",
     "text": [
      "1\n",
      "2\n",
      "3\n",
      "4\n",
      "5\n",
      "name John\n",
      "age 30\n",
      "city New York\n"
     ]
    }
   ],
   "source": [
    "\"Iterating over a list\"\n",
    "\n",
    "my_list = [1, 2, 3, 4, 5]\n",
    "\n",
    "for num in my_list:\n",
    "        print(num)\n"
   ]
  },
  {
   "cell_type": "code",
   "execution_count": 17,
   "metadata": {},
   "outputs": [
    {
     "name": "stdout",
     "output_type": "stream",
     "text": [
      "name John\n",
      "age 30\n",
      "city New York\n"
     ]
    }
   ],
   "source": [
    "\n",
    "\"Iterating over a dictionary\"\n",
    "\n",
    "my_dict = {'name': 'John', 'age': 30, 'city': 'New York'}\n",
    "\n",
    "for key, value in my_dict.items():\n",
    "        print(key, value)"
   ]
  },
  {
   "cell_type": "code",
   "execution_count": 18,
   "metadata": {},
   "outputs": [
    {
     "name": "stdout",
     "output_type": "stream",
     "text": [
      "H\n",
      "e\n",
      "l\n",
      "l\n",
      "o\n",
      ",\n",
      " \n",
      "W\n",
      "o\n",
      "r\n",
      "l\n",
      "d\n",
      "!\n"
     ]
    }
   ],
   "source": [
    "\"Iterating over a string\"\n",
    "\n",
    "my_string = 'Hello, World!'\n",
    "\n",
    "for char in my_string:\n",
    "        print(char)"
   ]
  },
  {
   "cell_type": "code",
   "execution_count": 30,
   "metadata": {},
   "outputs": [
    {
     "name": "stdout",
     "output_type": "stream",
     "text": [
      "1\n",
      "2\n",
      "3\n",
      "4\n",
      "5\n"
     ]
    }
   ],
   "source": [
    "'Iterating Over a set'\n",
    "\n",
    "my_set = {1, 2, 3, 4, 5}\n",
    "\n",
    "for num in my_set:\n",
    "        print(num)"
   ]
  },
  {
   "cell_type": "code",
   "execution_count": 32,
   "metadata": {},
   "outputs": [
    {
     "name": "stdout",
     "output_type": "stream",
     "text": [
      "enumerate function\n",
      "With List\n",
      "0 ismail\n",
      "1 agha\n",
      "2 shah\n",
      "3 salman\n",
      "With Tuple\n",
      "0 ismail\n",
      "1 agha\n",
      "2 shah\n",
      "3 salman\n",
      "With Dictionary\n",
      "0 name John\n",
      "1 age 30\n",
      "2 city New York\n",
      "With String\n",
      "0 H\n",
      "1 e\n",
      "2 l\n",
      "3 l\n",
      "4 o\n",
      "5 ,\n",
      "6  \n",
      "7 W\n",
      "8 o\n",
      "9 r\n",
      "10 l\n",
      "11 d\n",
      "12 !\n",
      "With Set\n",
      "0 (1, 2, 3, 4)\n",
      "1 1\n",
      "2 ismail\n"
     ]
    }
   ],
   "source": [
    "print(\"enumerate function\")\n",
    "\n",
    "\n",
    "print('With List')\n",
    "\n",
    "my_list = ['ismail','agha','shah','salman']\n",
    "\n",
    "for index, num in enumerate(my_list):\n",
    "        print(index, num)\n",
    "\n",
    "print('With Tuple')\n",
    "\n",
    "my_tuple = ('ismail','agha','shah','salman')\n",
    "\n",
    "\n",
    "for index, num in enumerate(my_tuple):\n",
    "        print(index, num)\n",
    "\n",
    "print('With Dictionary')\n",
    "\n",
    "my_dict = {'name':'John', 'age':30, 'city':'New York'}\n",
    "\n",
    "for index, (key, value) in enumerate(my_dict.items()):\n",
    "        print(index, key, value)\n",
    "\n",
    "print('With String')\n",
    "\n",
    "my_string = 'Hello, World!'\n",
    "\n",
    "for index, char in enumerate(my_string):\n",
    "        print(index, char)\n",
    "\n",
    "print('With Set')\n",
    "\n",
    "my_set = {1,'ismail',True,(1,2,3,4)}\n",
    "\n",
    "for index, num in enumerate(my_set):\n",
    "        print(index, num)"
   ]
  },
  {
   "cell_type": "code",
   "execution_count": null,
   "metadata": {},
   "outputs": [
    {
     "name": "stdout",
     "output_type": "stream",
     "text": [
      "Break statement\n",
      "1\n",
      "After break statement\n",
      "2\n",
      "After break statement\n",
      "Continue statement\n",
      "1\n",
      "After continue statement\n",
      "2\n",
      "After continue statement\n",
      "4\n",
      "After continue statement\n",
      "5\n",
      "After continue statement\n"
     ]
    }
   ],
   "source": [
    "\n",
    "print(\"Break statement\")\n",
    "\n",
    "my_list = [1, 2, 3, 4, 5]\n",
    "\n",
    "\n",
    "for num in my_list:\n",
    "        if num == 3:\n",
    "            break\n",
    "        print(num)\n",
    "        print(\"After break statement\")\n",
    "        # This will not execute if num == 3as the loop is broken\n",
    "\n",
    "\n",
    "print(\"Continue statement\")\n",
    "\n",
    "\n",
    "for num in my_list:\n",
    "        if num == 3:\n",
    "               continue\n",
    "        print(num)\n",
    "        print(\"After continue statement\")\n",
    "        # This will not execute if num == 3 as the loop will continue to the next iteration"
   ]
  },
  {
   "cell_type": "code",
   "execution_count": null,
   "metadata": {},
   "outputs": [
    {
     "name": "stdout",
     "output_type": "stream",
     "text": [
      "while loop\n",
      "0\n",
      "1\n",
      "2\n",
      "3\n",
      "4\n",
      "5\n",
      "6\n",
      "7\n",
      "8\n",
      "9\n"
     ]
    }
   ],
   "source": [
    "print('while loop')\n",
    "\n",
    "i = 0\n",
    "# This is used for repeating things on condition \n",
    "while i < 10:\n",
    "    print(i)\n",
    "    i += 1\n"
   ]
  }
 ],
 "metadata": {
  "kernelspec": {
   "display_name": "awfera",
   "language": "python",
   "name": "python3"
  },
  "language_info": {
   "codemirror_mode": {
    "name": "ipython",
    "version": 3
   },
   "file_extension": ".py",
   "mimetype": "text/x-python",
   "name": "python",
   "nbconvert_exporter": "python",
   "pygments_lexer": "ipython3",
   "version": "3.10.16"
  }
 },
 "nbformat": 4,
 "nbformat_minor": 2
}
