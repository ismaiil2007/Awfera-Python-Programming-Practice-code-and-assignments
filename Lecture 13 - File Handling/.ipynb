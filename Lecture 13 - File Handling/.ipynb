{
 "cells": [
  {
   "cell_type": "markdown",
   "id": "2ede0c35",
   "metadata": {},
   "source": [
    "FILE HANDLING IN PYTHON"
   ]
  },
  {
   "cell_type": "code",
   "execution_count": null,
   "id": "77234147",
   "metadata": {},
   "outputs": [
    {
     "name": "stdout",
     "output_type": "stream",
     "text": [
      "Opening a file :\n"
     ]
    },
    {
     "ename": "AttributeError",
     "evalue": "'_io.TextIOWrapper' object has no attribute 'opened'",
     "output_type": "error",
     "traceback": [
      "\u001b[1;31m---------------------------------------------------------------------------\u001b[0m",
      "\u001b[1;31mAttributeError\u001b[0m                            Traceback (most recent call last)",
      "Cell \u001b[1;32mIn[14], line 14\u001b[0m\n\u001b[0;32m      2\u001b[0m \u001b[38;5;66;03m# open() method is used to open a file in python it takes two arguments filename and mode of opening the file \u001b[39;00m\n\u001b[0;32m      3\u001b[0m \n\u001b[0;32m      4\u001b[0m \u001b[38;5;66;03m# MODES : \u001b[39;00m\n\u001b[1;32m   (...)\u001b[0m\n\u001b[0;32m     10\u001b[0m \u001b[38;5;66;03m#  \"wb\" = write binary - Opens a file for writing in binary format, creates the file if it does not exist\u001b[39;00m\n\u001b[0;32m     11\u001b[0m \u001b[38;5;66;03m#  \"ab\" = append binary - Opens a file for appending in binary format, creates the file if it does not exist\u001b[39;00m\n\u001b[0;32m     13\u001b[0m f \u001b[38;5;241m=\u001b[39m \u001b[38;5;28mopen\u001b[39m(\u001b[38;5;124m\"\u001b[39m\u001b[38;5;124mtest.txt\u001b[39m\u001b[38;5;124m\"\u001b[39m, \u001b[38;5;124m\"\u001b[39m\u001b[38;5;124mw\u001b[39m\u001b[38;5;124m\"\u001b[39m)\n\u001b[1;32m---> 14\u001b[0m \u001b[38;5;28mprint\u001b[39m(\u001b[43mf\u001b[49m\u001b[38;5;241;43m.\u001b[39;49m\u001b[43mopened\u001b[49m()) \n",
      "\u001b[1;31mAttributeError\u001b[0m: '_io.TextIOWrapper' object has no attribute 'opened'"
     ]
    }
   ],
   "source": [
    "print(\"Opening a file :\")\n",
    "# open() method is used to open a file in python it takes two arguments filename and mode of opening the file \n",
    "\n",
    "# MODES : \n",
    "# \"r\" = Read - Default value. Opens a file for reading, error if the file does not exist \n",
    "#  \"w\" =  Write - Opens a file for writing, creates the file if it does not exist - if we open a file in write mode, it will overwrite the existing content of the file means empty the file at first\n",
    "#  \"a\" = append - Opens a file for appending (means adding content to the end of the file), creates the file if it does not exist\n",
    "#  \"r+\" = read and write - Opens a file for both reading and writing, error if the file does not exist\n",
    "#  \"rb\" = read binary - Opens a file for reading in binary format, error if the file does not exist \n",
    "#  \"wb\" = write binary - Opens a file for writing in binary format, creates the file if it does not exist\n",
    "#  \"ab\" = append binary - Opens a file for appending in binary format, creates the file if it does not exist\n",
    "\n",
    "f = open(\"test.txt\", \"w\")\n",
    "print(\"File Opened successfully\") \n"
   ]
  },
  {
   "cell_type": "markdown",
   "id": "8ffbdfa0",
   "metadata": {},
   "source": [
    "\n",
    "FILE PROPERTIES AND METHODS:"
   ]
  },
  {
   "cell_type": "code",
   "execution_count": 12,
   "id": "699f1eee",
   "metadata": {},
   "outputs": [
    {
     "name": "stdout",
     "output_type": "stream",
     "text": [
      "Properties\n",
      "File name is :  test.txt\n",
      "File mode is :  w\n",
      "File is closed or not :  False\n"
     ]
    }
   ],
   "source": [
    "\n",
    "# Different types of files may have different properties and methods for doing same things.\n",
    "print('Properties')\n",
    "print(\"File name is : \", f.name)\n",
    "print(\"File mode is : \", f.mode)\n",
    "print(\"File is closed or not : \", f.closed)\n"
   ]
  },
  {
   "cell_type": "code",
   "execution_count": 11,
   "id": "bda7a956",
   "metadata": {},
   "outputs": [
    {
     "name": "stdout",
     "output_type": "stream",
     "text": [
      "File is writable or not :  True\n",
      "File is readable or not :  False\n",
      "File is seekable or not :  True\n"
     ]
    }
   ],
   "source": [
    "print(\"File is writable or not : \", f.writable()) # check if the file is writable or not\n",
    "print(\"File is readable or not : \", f.readable()) # check if the file is readable or not\n",
    "print(\"File is seekable or not : \", f.seekable()) # check if the file is seekable or not, means if we can move the file pointer to a specific position in the file\n"
   ]
  },
  {
   "cell_type": "code",
   "execution_count": 16,
   "id": "8acd21bd",
   "metadata": {},
   "outputs": [
    {
     "name": "stdout",
     "output_type": "stream",
     "text": [
      "I/O METHODS\n"
     ]
    },
    {
     "ename": "UnsupportedOperation",
     "evalue": "not readable",
     "output_type": "error",
     "traceback": [
      "\u001b[1;31m---------------------------------------------------------------------------\u001b[0m",
      "\u001b[1;31mUnsupportedOperation\u001b[0m                      Traceback (most recent call last)",
      "Cell \u001b[1;32mIn[16], line 3\u001b[0m\n\u001b[0;32m      1\u001b[0m \u001b[38;5;28mprint\u001b[39m(\u001b[38;5;124m\"\u001b[39m\u001b[38;5;124mI/O METHODS\u001b[39m\u001b[38;5;124m\"\u001b[39m)\n\u001b[1;32m----> 3\u001b[0m content \u001b[38;5;241m=\u001b[39m \u001b[43mf\u001b[49m\u001b[38;5;241;43m.\u001b[39;49m\u001b[43mread\u001b[49m\u001b[43m(\u001b[49m\u001b[43m)\u001b[49m \u001b[38;5;66;03m# read the content of the file, if file is empty it will return empty string\u001b[39;00m\n\u001b[0;32m      4\u001b[0m \u001b[38;5;66;03m# 👆👆 this willl through an error because we have opened the file in write mode, we have to switch \"r\" or \"r+\"\u001b[39;00m\n\u001b[0;32m      6\u001b[0m \u001b[38;5;28mprint\u001b[39m(\u001b[38;5;124m\"\u001b[39m\u001b[38;5;124mContent of the file is : \u001b[39m\u001b[38;5;124m\"\u001b[39m, content) \n",
      "\u001b[1;31mUnsupportedOperation\u001b[0m: not readable"
     ]
    }
   ],
   "source": [
    "\n",
    "print(\"I/O METHODS\")\n",
    "\n",
    "content = f.read() # read the content of the file, if file is empty it will return empty string\n",
    "# 👆👆 this willl through an error because we have opened the file in write mode, we have to switch \"r\" or \"r+\"\n",
    "\n",
    "print(\"Content of the file is : \", content) \n",
    "\n",
    "\n",
    "f.close()\n",
    "print(\"File closed or not : \", f.closed)"
   ]
  },
  {
   "cell_type": "code",
   "execution_count": null,
   "id": "cb36d113",
   "metadata": {},
   "outputs": [
    {
     "name": "stdout",
     "output_type": "stream",
     "text": [
      "write() method\n",
      "Writing data into the file\n",
      "<_io.TextIOWrapper name='test.txt' mode='w' encoding='UTF-8'>\n"
     ]
    }
   ],
   "source": [
    "print(\"write() method\")\n",
    "print(\"Writing data into the file\")\n",
    "# write() method is used to write data into the file. It takes a string as an argument and writes it to the file, it can write data even if file is closed \n",
    "f.write(\"This is a test file\")\n"
   ]
  }
 ],
 "metadata": {
  "kernelspec": {
   "display_name": "awfera",
   "language": "python",
   "name": "python3"
  },
  "language_info": {
   "codemirror_mode": {
    "name": "ipython",
    "version": 3
   },
   "file_extension": ".py",
   "mimetype": "text/x-python",
   "name": "python",
   "nbconvert_exporter": "python",
   "pygments_lexer": "ipython3",
   "version": "3.10.16"
  }
 },
 "nbformat": 4,
 "nbformat_minor": 5
}
