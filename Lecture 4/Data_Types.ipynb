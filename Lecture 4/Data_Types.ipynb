{
 "cells": [
  {
   "cell_type": "code",
   "execution_count": 1,
   "metadata": {},
   "outputs": [
    {
     "name": "stdout",
     "output_type": "stream",
     "text": [
      "200.0\n"
     ]
    }
   ],
   "source": [
    "print(2e2)"
   ]
  },
  {
   "cell_type": "code",
   "execution_count": null,
   "metadata": {},
   "outputs": [],
   "source": [
    "name=\"jhon\"\n",
    "name2=\"Do\"\n",
    "print(name+name2)"
   ]
  },
  {
   "cell_type": "code",
   "execution_count": 4,
   "metadata": {},
   "outputs": [
    {
     "name": "stdout",
     "output_type": "stream",
     "text": [
      "None\n"
     ]
    }
   ],
   "source": [
    "is_None = None\n",
    "print(is_None)"
   ]
  },
  {
   "cell_type": "markdown",
   "metadata": {},
   "source": [
    "Collection Types"
   ]
  },
  {
   "cell_type": "code",
   "execution_count": 98,
   "metadata": {},
   "outputs": [
    {
     "name": "stdout",
     "output_type": "stream",
     "text": [
      "23\n",
      "2\n",
      "[23, 44, 88, 55, 66]\n",
      "3\n",
      "append method  [23, 44, 88, 55, 66, 77]\n",
      "<class 'list'>\n",
      "remove last element 77\n"
     ]
    }
   ],
   "source": [
    "'LIST Type'\n",
    "\n",
    "new_list=[23,44,55,66]\n",
    "# a,b,c,*best=new_list \n",
    "'or' \n",
    "a,b,c,*_=new_list\n",
    "\n",
    "# a,b,c=new_list[:3]\n",
    "\n",
    "print(a)\n",
    "print(new_list.index(55))\n",
    "new_list.insert(-2,88) #Us index ki jagah par jo bhi variable hoga usko age phek dega \n",
    "print(new_list) \n",
    "print(new_list.index(55))\n",
    "new_list.append(77)\n",
    "print(\"append method \",new_list) \n",
    "new_list.remove(88)\n",
    "print(type(new_list)) \n",
    "\n",
    "print('remove last element',new_list.pop())\n"
   ]
  },
  {
   "cell_type": "code",
   "execution_count": 97,
   "metadata": {},
   "outputs": [
    {
     "name": "stdout",
     "output_type": "stream",
     "text": [
      "signle element  1\n",
      "('agha', 23, 23, True, 200.0, ['shanawaz', 23, True], (23, 44, 55, 66))\n",
      "Unpacked Values: \n",
      " agha 23 23 True\n",
      "('agha', 23, 23, True, 200.0, ['shanawaz', 23, True], (23, 44, 55, 66))\n"
     ]
    }
   ],
   "source": [
    "#Tuples\n",
    "\n",
    "signle_element_tuple=(1)\n",
    "print(\"signle element \",signle_element_tuple)\n",
    "\n",
    "new_tuple:tuple=(\"agha\",23,23,True,2e2,['shanawaz',23,True],(23,44,55,66))#Itmaintains the order\n",
    "print(new_tuple)\n",
    "# print(new_tuple[5][0])\n",
    "\n",
    "#Unpacking\n",
    "\n",
    "#👇👇👇👇👇👇All these three works the same\n",
    "a,b,c,d,e,f,g   =new_tuple\n",
    "# a,b,c,d,e, *rest =new_tuple #Throws error because of less variables\n",
    "# a,b,c,d,e =new_tuple[:5] #For only five elements\n",
    "\n",
    "print(\"Unpacked Values: \\n\",a,b,c,d)\n",
    "\n",
    "print(new_tuple)\n",
    "\n",
    "\n"
   ]
  },
  {
   "cell_type": "code",
   "execution_count": 65,
   "metadata": {},
   "outputs": [
    {
     "name": "stdout",
     "output_type": "stream",
     "text": [
      "{'name': 'ismail', 'age': 19, 'fathername': None}\n",
      "ismail\n",
      "None\n",
      "19\n",
      "{'name': 'ismail', 'age': 19}\n",
      "{'name': 'ismail', 'age': 19, 'city': 'New York'}\n",
      "{'name': 'ismail', 'age': 18, 'city': 'New York'}\n",
      "After element removed {'name': 'ismail', 'city': 'New York'}\n"
     ]
    }
   ],
   "source": [
    "\"DICTIONARY\"\n",
    "\n",
    "new_dict={ \"name\": \"ismail\",\"age\": 18,\"age\":19,\"fathername\": None}\n",
    "print(new_dict)\n",
    "\n",
    "name=\"name\"\n",
    "\n",
    "# new_dict[\"name\"] \n",
    "print(new_dict[name]) \n",
    "print(new_dict[\"fathername\"]) \n",
    "print(new_dict.get(\"age\"))#this method returns None if there is no value for the given key, so the program doesn't crashes, this is useful when we don't know what's in the data, like dealing with databases\n",
    "\n",
    "removed_value=new_dict.pop(\"fathername\")\n",
    "print(new_dict)\n",
    "\n",
    "new_dict[\"city\"]=\"New York\" #New key_value added\n",
    "print(new_dict)\n",
    "\n",
    "new_dict[\"age\"]=18 #Existing key updated\n",
    "\n",
    "print(new_dict)\n",
    "\n",
    "#Remove element\n",
    "new_dict.pop(\"age\")\n",
    "print(\"After element removed\", new_dict)\n",
    "\n",
    "# new_dict.pop(\"agha\")#Throw an error\n",
    "\n",
    "#clear dictionary\n",
    "\n",
    "new_dict.clear()\n",
    "#delete the dictionary\n",
    "del new_dict\n",
    "\n",
    "# print(new_dict) #This will throw an error because the dictionary is deleted."
   ]
  },
  {
   "cell_type": "code",
   "execution_count": 94,
   "metadata": {},
   "outputs": [
    {
     "name": "stdout",
     "output_type": "stream",
     "text": [
      "Empty set \n",
      " set()\n",
      "Number set with duplicate values \n",
      " {66, 44, 23, 55}\n",
      "Mixed set \n",
      " {True, 42, (), 'ismail'}\n",
      "After adding element \n",
      " {True, 42, 23, (), 'ismail'}\n",
      "After removing element \n",
      " {True, 42, (), 'ismail'}\n",
      "Union of two sets \n",
      " {1, 2, 3, 4, 5, 6, 7, 8, 9, 10}\n",
      "Union of two sets by union method \n",
      " {1, 2, 3, 4, 5, 6, 7, 8, 9, 10}\n",
      "Intersection of two sets \n",
      " {4, 6}\n",
      "Intersection of two sets by intersection method\n",
      " {4, 6}\n",
      "Difference of two sets \n",
      " {1, 2, 3, 5}\n",
      "Difference of two sets by difference method\n",
      " {1, 2, 3, 5}\n",
      "Symmetric difference of two sets \n",
      " {1, 2, 3, 5, 7, 8, 9, 10}\n",
      "Symmetric difference of two sets by symmetric_difference method\n",
      " {1, 2, 3, 5, 7, 8, 9, 10}\n",
      "Is set_a subset of set_b? False\n",
      "Is set_a subset of set_b by issubset method? False\n",
      "Is set_a superset of set_b? False\n",
      "Is set_a superset of set_b by issuperset method? False\n",
      "Are set_a and set_b equal? False\n",
      "Are set_a and set_b equal by __eq__ method? False\n"
     ]
    }
   ],
   "source": [
    "\"SETS\"\n",
    "\n",
    "empty_set=set()\n",
    "print(\"Empty set \\n\",empty_set) \n",
    "\n",
    "duplicate_values_set={23,44,55,66,23,44}#Duplicating values will not throw an error but only the first appearance of that value will be printed \n",
    "print(\"Number set with duplicate values \\n\",duplicate_values_set) #Set doesn't allow duplicate values\n",
    "\n",
    "mixed_set={42,\"ismail\",(),True} #Only Imutable types can be stored in sets, It also doesn't maintaines the order \n",
    "print(\"Mixed set \\n\",mixed_set)\n",
    "\n",
    "#Add element in set\n",
    "\n",
    "mixed_set.add(23)\n",
    "print(\"After adding element \\n\",mixed_set)\n",
    "\n",
    "#Remove element from set\n",
    "\n",
    "# mixed_set.remove(22)#This will throw an error because element is not present in the set\n",
    "'OR'\n",
    "mixed_set.discard(23) #This will not throw an error if the element is not present in the set\n",
    "print(\"After removing element \\n\",mixed_set)\n",
    "\n",
    "\n",
    "set_a={1,2,3,4,5,6,4,4,4}\n",
    "set_b={6,7,8,9,10,4,4,4}\n",
    "\n",
    "#Union of two sets\n",
    "print(\"Union of two sets \\n\",set_a | set_b)\n",
    "'OR'\n",
    "print(\"Union of two sets by union method \\n\",set_a.union(set_b))\n",
    "\n",
    "#Intersection of two sets\n",
    "print(\"Intersection of two sets \\n\",set_a & set_b)\n",
    "'OR'\n",
    "print(\"Intersection of two sets by intersection method\\n\",set_a.intersection(set_b))\n",
    "\n",
    "#Difference of two sets\n",
    "\n",
    "print(\"Difference of two sets \\n\",set_a - set_b)\n",
    "'OR'\n",
    "print(\"Difference of two sets by difference method\\n\",set_a.difference(set_b))\n",
    "\n",
    "#Symmetric difference of two sets\n",
    "\n",
    "print(\"Symmetric difference of two sets \\n\",set_a ^ set_b)\n",
    "'OR'\n",
    "print(\"Symmetric difference of two sets by symmetric_difference method\\n\",set_a.symmetric_difference(set_b))\n",
    "\n",
    "#Check if one set is a subset of another\n",
    "\n",
    "print(\"Is set_a subset of set_b?\",set_a.issubset(set_b))\n",
    "'OR'\n",
    "print(\"Is set_a subset of set_b by issubset method?\",set_a.issubset(set_b))\n",
    "\n",
    "#Check if one set is a superset of another\n",
    "\n",
    "print(\"Is set_a superset of set_b?\",set_a.issuperset(set_b))\n",
    "'OR'\n",
    "print(\"Is set_a superset of set_b by issuperset method?\",set_a.issuperset(set_b))\n",
    "\n",
    "#Check if two sets have the same elements\n",
    "\n",
    "print(\"Are set_a and set_b equal?\",set_a == set_b)\n",
    "'OR'\n",
    "print(\"Are set_a and set_b equal by __eq__ method?\",set_a == set_b)"
   ]
  }
 ],
 "metadata": {
  "kernelspec": {
   "display_name": "awfera",
   "language": "python",
   "name": "python3"
  },
  "language_info": {
   "codemirror_mode": {
    "name": "ipython",
    "version": 3
   },
   "file_extension": ".py",
   "mimetype": "text/x-python",
   "name": "python",
   "nbconvert_exporter": "python",
   "pygments_lexer": "ipython3",
   "version": "3.10.16"
  }
 },
 "nbformat": 4,
 "nbformat_minor": 2
}
