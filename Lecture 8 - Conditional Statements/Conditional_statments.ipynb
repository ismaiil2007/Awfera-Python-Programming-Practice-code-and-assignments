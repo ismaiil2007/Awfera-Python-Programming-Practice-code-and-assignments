{
 "cells": [
  {
   "cell_type": "markdown",
   "metadata": {},
   "source": [
    "CONDITIONAL STATEMENTS"
   ]
  },
  {
   "cell_type": "code",
   "execution_count": 6,
   "metadata": {},
   "outputs": [
    {
     "name": "stdout",
     "output_type": "stream",
     "text": [
      "a is greater than 10\n",
      "a is equal to 33\n"
     ]
    }
   ],
   "source": [
    "\"CONDITIONAL STATMENTS\"\n",
    "\n",
    "# - \"if\" statement: Executes a block of code if a specified condition is true.\n",
    "# - \"else\" statement: Executes a block of code if a specified condition is false.\n",
    "# - \"elif\" statement: Executes a block of code if a specified condition is false.\n",
    "\n",
    "# Example:\n",
    "\n",
    "a = 33\n",
    "\n",
    "if a > 10:\n",
    "    print(\"a is greater than 10\")\n",
    "\n",
    "elif a > 20:\n",
    "    print(\"a is greater than 20\")\n",
    "\n",
    "elif a > 30:\n",
    "    print(\"a is greater than 30\")\n",
    "\n",
    "else:\n",
    "    print(\"a is not greater than 10\")\n",
    "\n",
    "\n",
    "a = \"33\"\n",
    "\n",
    "if a == 33:\n",
    "    print(\"a is equal to 10\")\n",
    "\n",
    "elif a == \"33\":\n",
    "    print(\"a is equal to 33\")"
   ]
  },
  {
   "cell_type": "code",
   "execution_count": 13,
   "metadata": {},
   "outputs": [
    {
     "name": "stdout",
     "output_type": "stream",
     "text": [
      "a is between 100 and 300\n",
      "a is between 100 and 300\n"
     ]
    }
   ],
   "source": [
    "\"Using Logical Operators in conditional statements\"\n",
    "\n",
    "# - \"and\" statement: Returns True if both statements are true.\n",
    "# - \"or\" statement: Returns True if one of the statements is true.\n",
    "# - \"not\" statement: Reverse the result, returns False if the result is true.\n",
    "\n",
    "# Example:\n",
    "\n",
    "a = 200\n",
    "\n",
    "if a > 100 and a < 300:\n",
    "    print(\"a is between 100 and 300\")\n",
    "\n",
    "if a > 100 or a < 300:\n",
    "    print(\"a is between 100 and 300\")\n",
    "    # This will also print\n",
    "    # because the \"or\" operator returns True if any of the statements is true\n",
    "\n",
    "if not a == 200:\n",
    "    print(\"a is not equal to 200\")\n",
    "\n",
    "if not (a > 100 and a < 201):\n",
    "    print(\"a is not between 100 and 201\")"
   ]
  },
  {
   "cell_type": "code",
   "execution_count": 25,
   "metadata": {},
   "outputs": [
    {
     "name": "stdout",
     "output_type": "stream",
     "text": [
      "a is not equal to 200\n"
     ]
    }
   ],
   "source": [
    "\"The pass statement\"\n",
    "\n",
    "# - The \"pass\" statement is a null operation, it does nothing when executed\n",
    "\n",
    "# Example:\n",
    "\n",
    "if a == 300:\n",
    "    pass \n",
    "    if a != 200:\n",
    "        print(\"a is still equal to 200\")\n",
    "    elif a == 300:\n",
    "        print(\"a is equal to 300\")\n",
    "    else:\n",
    "        print(\"a is not equal to 200 or 300\")\n",
    "\n",
    " \n",
    "elif a == 300:\n",
    "    print(\"a is equal to 300\")\n",
    "else:\n",
    "    print(\"a is not equal to 200\")"
   ]
  }
 ],
 "metadata": {
  "kernelspec": {
   "display_name": "awfera",
   "language": "python",
   "name": "python3"
  },
  "language_info": {
   "codemirror_mode": {
    "name": "ipython",
    "version": 3
   },
   "file_extension": ".py",
   "mimetype": "text/x-python",
   "name": "python",
   "nbconvert_exporter": "python",
   "pygments_lexer": "ipython3",
   "version": "3.10.16"
  }
 },
 "nbformat": 4,
 "nbformat_minor": 2
}
