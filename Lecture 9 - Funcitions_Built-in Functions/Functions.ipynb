{
 "cells": [
  {
   "cell_type": "markdown",
   "metadata": {},
   "source": [
    "FUNCTIONS"
   ]
  },
  {
   "cell_type": "code",
   "execution_count": null,
   "metadata": {},
   "outputs": [
    {
     "name": "stdout",
     "output_type": "stream",
     "text": [
      "Hello, World!\n",
      "Hello, John Doe!\n",
      "Hello, Guest!\n",
      "25\n"
     ]
    }
   ],
   "source": [
    "\"FUNCTION DEFINITION\"\n",
    "def my_function():\n",
    "    print(\"Hello, World!\")\n",
    "\n",
    "my_function()\n",
    "\n",
    "\n",
    "\"Nested Functions\"\n",
    "\n",
    "def outer_function():\n",
    "    def inner_function():\n",
    "        print(\"Inside inner function\")\n",
    "        return \"Hello from inner function\"\n",
    "    return inner_function()\n",
    "\n",
    "print(outer_function())\n",
    "    \n",
    "    \n",
    "    \n",
    "\n",
    "\"Returning a Value\"\n",
    "\n",
    "def square_number(number):\n",
    "    return number * number\n",
    "\n",
    "result = square_number(5)\n",
    "print(result)"
   ]
  },
  {
   "cell_type": "code",
   "execution_count": null,
   "metadata": {},
   "outputs": [
    {
     "name": "stdout",
     "output_type": "stream",
     "text": [
      "Function with Parameters\n",
      "Hello, John Doe!\n",
      "\n",
      "Default Parameters \n",
      "\n",
      "Hello, Guest!\n",
      "\n",
      "ARBITRARY ARGUMENTS - Variable Number of Parameters \n",
      "\n",
      "<class 'tuple'>\n",
      "Hello, John Doe!\n",
      "Hello, Jane Smith!\n",
      "Hello, Michael Johnson!\n",
      "\n",
      "Keyword Parameters \n",
      "\n",
      "<class 'dict'>\n",
      "Hello, John! You are 30 years old.\n",
      "Hello, Jane! You are 28 years old.\n",
      "Hello, Michael! You are 35 years old.\n",
      "\n",
      " KEYWORD ARGUEMENTS \n",
      "\n",
      "The youngest child is Emil\n",
      "The youngest child is Tobias\n",
      "The youngest child is Linus\n",
      "\n",
      "NUMBER OF ARGUMENTS \n",
      "\n"
     ]
    },
    {
     "ename": "TypeError",
     "evalue": "greet_user_arg() takes 1 positional argument but 2 were given",
     "output_type": "error",
     "traceback": [
      "\u001b[1;31m---------------------------------------------------------------------------\u001b[0m",
      "\u001b[1;31mTypeError\u001b[0m                                 Traceback (most recent call last)",
      "Cell \u001b[1;32mIn[13], line 48\u001b[0m\n\u001b[0;32m     45\u001b[0m \u001b[38;5;28;01mdef\u001b[39;00m\u001b[38;5;250m \u001b[39m\u001b[38;5;21mgreet_user_arg\u001b[39m(name):\n\u001b[0;32m     46\u001b[0m     \u001b[38;5;28mprint\u001b[39m(\u001b[38;5;124mf\u001b[39m\u001b[38;5;124m\"\u001b[39m\u001b[38;5;124mHello, \u001b[39m\u001b[38;5;132;01m{\u001b[39;00mname\u001b[38;5;132;01m}\u001b[39;00m\u001b[38;5;124m!\u001b[39m\u001b[38;5;124m\"\u001b[39m)\n\u001b[1;32m---> 48\u001b[0m \u001b[43mgreet_user_arg\u001b[49m\u001b[43m(\u001b[49m\u001b[38;5;124;43m\"\u001b[39;49m\u001b[38;5;124;43mJohn\u001b[39;49m\u001b[38;5;124;43m\"\u001b[39;49m\u001b[43m,\u001b[49m\u001b[38;5;124;43m\"\u001b[39;49m\u001b[38;5;124;43mDoe\u001b[39;49m\u001b[38;5;124;43m\"\u001b[39;49m\u001b[43m)\u001b[49m \u001b[38;5;66;03m# This will throw an error\u001b[39;00m\n\u001b[0;32m     50\u001b[0m greet_user_arg() \u001b[38;5;66;03m# This will throw an error\u001b[39;00m\n",
      "\u001b[1;31mTypeError\u001b[0m: greet_user_arg() takes 1 positional argument but 2 were given"
     ]
    }
   ],
   "source": [
    "\n",
    "print(\"Function with Parameters\")\n",
    "\n",
    "def greet_user(name):\n",
    "    print(f\"Hello, {name}!\")\n",
    "\n",
    "greet_user(\"John Doe\")\n",
    "\n",
    "print(\"\\nDefault Parameters \\n\")\n",
    "\n",
    "def greet_user_default(name=\"Guest\"):\n",
    "    print(f\"Hello, {name}!\")\n",
    "\n",
    "greet_user_default()\n",
    "\n",
    "print(\"\\nARBITRARY ARGUMENTS - Variable Number of Parameters \\n\")\n",
    "\n",
    "def greet_users(*names):\n",
    "    print(type(names))\n",
    "    for name in names:\n",
    "        print(f\"Hello, {name}!\")\n",
    "\n",
    "greet_users(\"John Doe\", \"Jane Smith\", \"Michael Johnson\")\n",
    "\n",
    "print(\"\\nKeyword Parameters \\n\")\n",
    "\n",
    "def greet_users_keyword(**kwargs):\n",
    "    print(type(kwargs))\n",
    "    for name, age in kwargs.items():\n",
    "    # for name, age in kwargs:\n",
    "        print(f\"Hello, {name}! You are {age} years old.\")\n",
    "\n",
    "greet_users_keyword(John=\"30\", Jane=\"28\", Michael=\"35\")\n",
    "\n",
    "print(\"\\n KEYWORD ARGUEMENTS \\n\")\n",
    "\n",
    "def my_function(child3, child2, child1):\n",
    "  print(\"The youngest child is \" + child1)\n",
    "  print(\"The youngest child is \" + child2)\n",
    "  print(\"The youngest child is \" + child3)\n",
    "\n",
    "my_function(child1 = \"Emil\", child2 = \"Tobias\", child3 = \"Linus\")\n",
    "\n",
    "print(\"\\n NUMBER OF ARGUMENTS \\n\")\n",
    "\n",
    "def greet_user_arg(name):\n",
    "    print(f\"Hello, {name}!\")\n",
    "\n",
    "greet_user_arg(\"John\",\"Doe\") # This will throw an error\n",
    "\n",
    "greet_user_arg() # This will throw an error\n",
    "\n",
    "\n"
   ]
  },
  {
   "cell_type": "code",
   "execution_count": 21,
   "metadata": {},
   "outputs": [
    {
     "name": "stdout",
     "output_type": "stream",
     "text": [
      "Returnning a value\n",
      "25\n",
      "Pass statement\n",
      "None\n"
     ]
    },
    {
     "ename": "TypeError",
     "evalue": "pass_statement() missing 1 required positional argument: 'name'",
     "output_type": "error",
     "traceback": [
      "\u001b[1;31m---------------------------------------------------------------------------\u001b[0m",
      "\u001b[1;31mTypeError\u001b[0m                                 Traceback (most recent call last)",
      "Cell \u001b[1;32mIn[21], line 14\u001b[0m\n\u001b[0;32m     11\u001b[0m     \u001b[38;5;28;01mpass\u001b[39;00m \u001b[38;5;66;03m# pass statement returns None \u001b[39;00m\n\u001b[0;32m     13\u001b[0m \u001b[38;5;28mprint\u001b[39m(pass_statement(\u001b[38;5;124m\"\u001b[39m\u001b[38;5;124mJohn Doe\u001b[39m\u001b[38;5;124m\"\u001b[39m))\n\u001b[1;32m---> 14\u001b[0m \u001b[38;5;28mprint\u001b[39m(\u001b[43mpass_statement\u001b[49m\u001b[43m(\u001b[49m\u001b[43m)\u001b[49m) \u001b[38;5;66;03m#This will through an error because name is required but not given\u001b[39;00m\n",
      "\u001b[1;31mTypeError\u001b[0m: pass_statement() missing 1 required positional argument: 'name'"
     ]
    }
   ],
   "source": [
    "print(\"Returnning a value\")\n",
    "\n",
    "def square_number(number):\n",
    "    return number * number\n",
    "\n",
    "print(square_number(5))\n",
    "\n",
    "print(\"Pass statement\")\n",
    "\n",
    "def pass_statement(name):\n",
    "    pass # pass statement returns None \n",
    "\n",
    "print(pass_statement(\"John Doe\"))\n",
    "print(pass_statement()) #This will through an error because name is required but not given\n",
    "\n",
    "\n",
    "\n",
    "   \n",
    "\n"
   ]
  },
  {
   "cell_type": "code",
   "execution_count": null,
   "metadata": {},
   "outputs": [
    {
     "name": "stdout",
     "output_type": "stream",
     "text": [
      "Position-Only Arguements\n",
      "3\n",
      "Keyword-Only Arguements\n",
      "3\n"
     ]
    }
   ],
   "source": [
    "print(\"Position-Only Arguements\")\n",
    "\n",
    "def my_function(x, /):\n",
    "  print(x)\n",
    "\n",
    "# my_function(x=3) #This will throw an error because the function excepts only positional arguements\n",
    "my_function(3) \n",
    "\n",
    "print(\"Keyword-Only Arguements\")\n",
    "\n",
    "def my_function(*, x):\n",
    "  print(x)\n",
    "\n",
    "# my_function(3) #This will throw an error because the function excepts only keyword arguements\n",
    "my_function(x=3)\n",
    "\n",
    "print(\"Combine Positional-Only and Keyword_Only arguments\")\n",
    "\n",
    "def my_function(x, /, *, y):\n",
    "  print(x, y)\n",
    "\n",
    "my_function(3, y=4)\n",
    "# my_function(y=4 , 3) #This will throw an exception because "
   ]
  }
 ],
 "metadata": {
  "kernelspec": {
   "display_name": "awfera",
   "language": "python",
   "name": "python3"
  },
  "language_info": {
   "codemirror_mode": {
    "name": "ipython",
    "version": 3
   },
   "file_extension": ".py",
   "mimetype": "text/x-python",
   "name": "python",
   "nbconvert_exporter": "python",
   "pygments_lexer": "ipython3",
   "version": "3.10.16"
  }
 },
 "nbformat": 4,
 "nbformat_minor": 2
}
