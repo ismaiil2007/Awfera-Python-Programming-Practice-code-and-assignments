{
 "cells": [
  {
   "cell_type": "markdown",
   "metadata": {},
   "source": [
    "LOCAL VS GLOBAL VARIABLES"
   ]
  },
  {
   "cell_type": "code",
   "execution_count": null,
   "metadata": {},
   "outputs": [
    {
     "name": "stdout",
     "output_type": "stream",
     "text": [
      "\n",
      "LOCAL VARIABLES\n",
      "This is a local variable: 20\n",
      "This is a global variable: 10\n",
      "This is a local variable: 20\n",
      "\n",
      "GLOBAL VARIABLES\n",
      "This is a global variable: 10\n"
     ]
    },
    {
     "ename": "NameError",
     "evalue": "name 'y' is not defined",
     "output_type": "error",
     "traceback": [
      "\u001b[1;31m---------------------------------------------------------------------------\u001b[0m",
      "\u001b[1;31mNameError\u001b[0m                                 Traceback (most recent call last)",
      "Cell \u001b[1;32mIn[25], line 17\u001b[0m\n\u001b[0;32m     15\u001b[0m x \u001b[38;5;241m=\u001b[39m \u001b[38;5;241m10\u001b[39m \u001b[38;5;66;03m# Global variable\u001b[39;00m\n\u001b[0;32m     16\u001b[0m \u001b[38;5;28mprint\u001b[39m(\u001b[38;5;124m\"\u001b[39m\u001b[38;5;124mThis is a global variable:\u001b[39m\u001b[38;5;124m\"\u001b[39m, x)\n\u001b[1;32m---> 17\u001b[0m \u001b[38;5;28mprint\u001b[39m(\u001b[43my\u001b[49m) \u001b[38;5;66;03m# This will raise an error because y is not defined in the global scope\u001b[39;00m\n\u001b[0;32m     18\u001b[0m \u001b[38;5;28mprint\u001b[39m(\u001b[38;5;124m\"\u001b[39m\u001b[38;5;124mThis is a local variable:\u001b[39m\u001b[38;5;124m\"\u001b[39m, \u001b[38;5;28mlocals\u001b[39m()[\u001b[38;5;124m'\u001b[39m\u001b[38;5;124my\u001b[39m\u001b[38;5;124m'\u001b[39m])\n",
      "\u001b[1;31mNameError\u001b[0m: name 'y' is not defined"
     ]
    }
   ],
   "source": [
    "\n",
    "\n",
    "print(\"\\nLOCAL VARIABLES\")\n",
    "\n",
    "def main():\n",
    "    x = 20 # Local variable\n",
    "    y=10\n",
    "    print(\"This is a local variable:\", x)\n",
    "    print(\"This is a global variable:\", globals()['x']) # This is useful for accessing global variable - with a same name as a local variable - inside a function \n",
    "    print(\"This is a local variable:\", locals()['x']) # This is useful for accessing local variable - with a same name as a global variable - inside a function\n",
    "\n",
    "\n",
    "main()\n",
    "\n",
    "print(\"\\nGLOBAL VARIABLES\")\n",
    "\n",
    "x = 10 # Global variable\n",
    "print(\"This is a global variable:\", x)\n",
    "print(y) # This will raise an error because y is not defined in the global scope\n",
    "print(\"This is a local variable:\", locals()['y']) #This will raise same error \n",
    "\n",
    "\n",
    "\n"
   ]
  },
  {
   "cell_type": "code",
   "execution_count": 26,
   "metadata": {},
   "outputs": [
    {
     "name": "stdout",
     "output_type": "stream",
     "text": [
      "Inside inner function: local\n",
      "Inside outer function: enclosing\n",
      "Outside all functions: global\n"
     ]
    }
   ],
   "source": [
    "x = 'global'  # Global variable  \n",
    "\n",
    "def outer_function():  \n",
    "    x = 'enclosing'  # Enclosing variable  \n",
    "    def inner_function():  \n",
    "        x = 'local'  # Local variable  \n",
    "        print('Inside inner function:', x)  # Prints local variable  \n",
    "    inner_function()  \n",
    "    print('Inside outer function:', x)  # Prints enclosing variable  \n",
    "\n",
    "outer_function()  \n",
    "print('Outside all functions:', x)  # Prints global variable  "
   ]
  },
  {
   "cell_type": "code",
   "execution_count": null,
   "metadata": {},
   "outputs": [
    {
     "name": "stdout",
     "output_type": "stream",
     "text": [
      "Updated counter: 1\n"
     ]
    }
   ],
   "source": [
    "counter = 0  # Global variable  \n",
    "\n",
    "def increment():  \n",
    "    global counter  # Explicitly modifying global variable  \n",
    "    counter  #This will throw an error \n",
    "    counter += 1  \n",
    "\n",
    "increment()  \n",
    "print('Updated counter:', counter)  "
   ]
  }
 ],
 "metadata": {
  "kernelspec": {
   "display_name": "awfera",
   "language": "python",
   "name": "python3"
  },
  "language_info": {
   "codemirror_mode": {
    "name": "ipython",
    "version": 3
   },
   "file_extension": ".py",
   "mimetype": "text/x-python",
   "name": "python",
   "nbconvert_exporter": "python",
   "pygments_lexer": "ipython3",
   "version": "3.10.16"
  }
 },
 "nbformat": 4,
 "nbformat_minor": 2
}
