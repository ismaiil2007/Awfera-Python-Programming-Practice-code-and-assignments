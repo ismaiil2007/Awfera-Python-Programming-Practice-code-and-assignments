{
 "cells": [
  {
   "cell_type": "markdown",
   "metadata": {},
   "source": [
    "Operators"
   ]
  },
  {
   "cell_type": "code",
   "execution_count": 4,
   "metadata": {},
   "outputs": [
    {
     "name": "stdout",
     "output_type": "stream",
     "text": [
      "Addition assignment 8\n",
      "Subtraction assignment 5\n",
      "Multiplication assignment 15\n",
      "Division assignment 5.0\n",
      "Modulus assignment 2.0\n",
      "Exponentiation assignment 8.0\n",
      "Floor division assignment 2.0\n",
      "3.3333333333333335\n"
     ]
    }
   ],
   "source": [
    "\"ASSIGNMENT OPERATORS\"\n",
    "\n",
    "# Assignment operators\n",
    "\n",
    "a = 5  # Assignment\n",
    "\n",
    "a += 3  # Addition assignment\n",
    "print(\"Addition assignment\",a)\n",
    "a -= 3  # Subtraction assignment\n",
    "print( \"Subtraction assignment\",a)\n",
    "a *= 3  # Multiplication \n",
    "print( \"Multiplication assignment\",a)\n",
    "a /= 3  # Division assignment\n",
    "print( \"Division assignment\",a)\n",
    "a %= 3  # Modulus assignment\n",
    "print( \"Modulus assignment\",a)\n",
    "a **= 3  # Exponentiation assignment\n",
    "print( \"Exponentiation assignment\",a)\n",
    "a //= 3  # Floor division assignment\n",
    "print( \"Floor division assignment\",a)\n",
    "\n",
    "print(10/3)\n",
    "# a &= 3  # Bitwise AND assignment\n",
    "# print(a)\n",
    "# a |= 3  # Bitwise OR assignment\n",
    "# print(a)\n",
    "# a ^= 3  # Bitwise XOR assignment\n",
    "# print(a)\n",
    "# a >>= 3  # Bitwise right shift assignment\n",
    "# print(a)\n",
    "# a <<= 3  # Bitwise left shift assignment\n",
    "# print(a)\n"
   ]
  },
  {
   "cell_type": "code",
   "execution_count": null,
   "metadata": {},
   "outputs": [
    {
     "name": "stdout",
     "output_type": "stream",
     "text": [
      "Addition 8\n",
      "Subtraction 2\n",
      "Multiplication 15\n",
      "Division 1.6666666666666667\n",
      "Floor division 1.0\n",
      "Modulus 1.7675999999999998\n",
      "Exponentiation 181.69820712949507\n",
      "Exponentiation with rational power 55.90169943749474\n",
      "Conjugation OR Modulus 1.7675999999999998\n"
     ]
    }
   ],
   "source": [
    "\"ARITHMETIC OPERATORS\"\n",
    "\n",
    "# Arithmetic operators\n",
    "\n",
    "a = 5\n",
    "\n",
    "b = 3\n",
    "\n",
    "print(\"Addition\",a + b)  # Addition\n",
    "\n",
    "print(\"Subtraction\",a - b)  # Subtraction\n",
    "\n",
    "print(\"Multiplication\",a * b)  # Multiplication\n",
    "\n",
    "print(\"Division\",a / b)  # Division\n",
    "\n",
    "# print(\"Division by zero\", a / 0)  # Error: Division by zero\n",
    "\n",
    "print(\"Floor division\",a // b)  # Floor division\n",
    "\n",
    "# What is the output of floor division\n",
    "# Answer: floor division by zero and divide by zero and divide by zero\n",
    " \n",
    "print(\"Modulus\", a % b)  # Modulus\n",
    "\n",
    "print(\"Exponentiation\",a ** b)  # Exponentiation\n",
    "\n",
    "print(\"Exponentiation with rational power\", a ** (5/2))\n",
    "\n",
    "# a**5/2 is not equal to a**5/2\n",
    "\n",
    "\n",
    "print(\"Conjugation OR Modulus\",a % b) # Conjugation OR Modulus\n",
    "\n",
    "# print(\"Exponentiation with negative exponent\", a ** -b)  # Error: Exponentiation with negative exponent"
   ]
  },
  {
   "cell_type": "code",
   "execution_count": 38,
   "metadata": {},
   "outputs": [
    {
     "name": "stdout",
     "output_type": "stream",
     "text": [
      "Equal False\n",
      "Not equal True\n",
      "Greater than True\n",
      "Less than False\n",
      "Greater than or equal to True\n",
      "Less than or equal to False\n",
      "iainstance function True\n",
      "isinstance with tuple of types as second arguement True\n"
     ]
    }
   ],
   "source": [
    "\"COMPARISON OPERATORS\"\n",
    "\n",
    "# Comparison operators\n",
    "\n",
    "a = 5\n",
    "\n",
    "b = 3\n",
    "\n",
    "\n",
    "\n",
    "print(\"Equal\", a == b)  # Equal\n",
    "\n",
    "print(\"Not equal\", a!= b)  # Not equal\n",
    "\n",
    "print(\"Greater than\", a > b)  # Greater than\n",
    "\n",
    "print(\"Less than\", a < b)  # Less than\n",
    "\n",
    "print(\"Greater than or equal to\", a >= b)  # Greater than or equal to\n",
    "\n",
    "print(\"Less than or equal to\", a <= b)  # Less than or equal \n",
    "\n",
    "print(\"iainstance function\", isinstance(a, int))  # Type of a is int\n",
    "\n",
    "print(\"isinstance with tuple of types as second arguement\", isinstance(a, (int, float, str, bool, complex, tuple, list, set, dict)))  # If anyone type in the tuple matches the type of a given variable it will return true\n",
    "\n",
    "a:None\n",
    "\n",
    "# print(\"Type of a is None\", isinstance(a, None))  # Error\n",
    "\n",
    "# print(\"instance of with one argument \", isinstance(a))  #Error:  Instance of with one argument"
   ]
  },
  {
   "cell_type": "code",
   "execution_count": 45,
   "metadata": {},
   "outputs": [
    {
     "name": "stdout",
     "output_type": "stream",
     "text": [
      "Logical AND False\n",
      "Logical OR True\n",
      "Logical NOT False\n",
      "Logical XOR True\n",
      "Short-circuit AND True\n",
      "Short-circuit OR True\n",
      "Nested AND False\n",
      "Nested OR True\n",
      "Nested NOT True\n",
      "Nested XOR False\n",
      "Nested AND and OR True\n",
      "Nested OR and AND True\n",
      "Nested NOT and AND True\n"
     ]
    }
   ],
   "source": [
    "\"LOGICAL OPERATORS\"\n",
    "\n",
    "# Logical operators\n",
    "\n",
    "a = True\n",
    "\n",
    "b = False\n",
    "c = True\n",
    "print(\"Logical AND\", a and b)  #Either one should be true \n",
    "\n",
    "print(\"Logical OR\", a or b)  # Anyone should be true\n",
    "\n",
    "print(\"Logical NOT\", not a)  # it inverts the result, True to False and False to True\n",
    "\n",
    "print(\"Logical XOR\", a ^ b)  \n",
    "\n",
    "print(\"Short-circuit AND\", a and (b or c))  # Short-circuit AND\n",
    "\n",
    "print(\"Short-circuit OR\", a or (b and c))  # Short-circuit OR\n",
    "\n",
    "print(\"Nested AND\", (a and b) and c)  # Nested AND\n",
    "# (a and b) and c) is same as a and b and c)\n",
    "\n",
    "\n",
    "print(\"Nested OR\", (a or b) or c)  # Nested OR\n",
    "\n",
    "print(\"Nested NOT\", not (a and b))  # Nested NOT\n",
    "\n",
    "print(\"Nested XOR\", (a ^ b) ^ c)  # Nested XOR\n",
    "\n",
    "print(\"Nested AND and OR\", ((a and b) and c) or ((a or b) and c))  # Nested AND and OR\n",
    "\n",
    "print(\"Nested OR and AND\", ((a or b) and c) or ((a and b) and c))  # Nested OR and AND\n",
    "\n",
    "print(\"Nested NOT and AND\", not ((a and b) and c) and c)  # Nested NOT and AND\n",
    " \n"
   ]
  }
 ],
 "metadata": {
  "kernelspec": {
   "display_name": "awfera",
   "language": "python",
   "name": "python3"
  },
  "language_info": {
   "codemirror_mode": {
    "name": "ipython",
    "version": 3
   },
   "file_extension": ".py",
   "mimetype": "text/x-python",
   "name": "python",
   "nbconvert_exporter": "python",
   "pygments_lexer": "ipython3",
   "version": "3.10.16"
  }
 },
 "nbformat": 4,
 "nbformat_minor": 2
}
